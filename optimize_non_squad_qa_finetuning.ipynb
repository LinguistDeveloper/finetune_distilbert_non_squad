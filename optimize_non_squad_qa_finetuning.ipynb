{
 "cells": [
  {
   "cell_type": "code",
   "execution_count": 1,
   "id": "7d2a434c-a993-4e17-a098-08ca326df849",
   "metadata": {},
   "outputs": [],
   "source": [
    "#!pip install transformers"
   ]
  },
  {
   "cell_type": "code",
   "execution_count": 3,
   "id": "55b2d37a-f63c-4f72-9bca-c000401d683c",
   "metadata": {},
   "outputs": [
    {
     "name": "stderr",
     "output_type": "stream",
     "text": [
      "Some weights of DistilBertForQuestionAnswering were not initialized from the model checkpoint at distilbert-base-uncased and are newly initialized: ['qa_outputs.bias', 'qa_outputs.weight']\n",
      "You should probably TRAIN this model on a down-stream task to be able to use it for predictions and inference.\n"
     ]
    }
   ],
   "source": [
    "from transformers import AutoTokenizer, AutoModelForQuestionAnswering\n",
    "\n",
    "model_name = \"distilbert-base-uncased\"\n",
    "tokenizer = AutoTokenizer.from_pretrained(model_name)\n",
    "model = AutoModelForQuestionAnswering.from_pretrained(model_name)"
   ]
  },
  {
   "cell_type": "code",
   "execution_count": 5,
   "id": "c4ed4493-648b-4a18-b3a7-5354fea06e86",
   "metadata": {},
   "outputs": [],
   "source": [
    "from datasets import load_dataset"
   ]
  },
  {
   "cell_type": "code",
   "execution_count": 7,
   "id": "8e901523-5fa7-4ba4-8ded-b910f725b51b",
   "metadata": {},
   "outputs": [
    {
     "data": {
      "application/vnd.jupyter.widget-view+json": {
       "model_id": "254197a43f424cddbfdaf4c74a109164",
       "version_major": 2,
       "version_minor": 0
      },
      "text/plain": [
       "Resolving data files:   0%|          | 0/26 [00:00<?, ?it/s]"
      ]
     },
     "metadata": {},
     "output_type": "display_data"
    },
    {
     "data": {
      "application/vnd.jupyter.widget-view+json": {
       "model_id": "12398e75a150470e9379d56f45ed26f0",
       "version_major": 2,
       "version_minor": 0
      },
      "text/plain": [
       "Resolving data files:   0%|          | 0/26 [00:00<?, ?it/s]"
      ]
     },
     "metadata": {},
     "output_type": "display_data"
    },
    {
     "data": {
      "application/vnd.jupyter.widget-view+json": {
       "model_id": "83c77bc5645049e59d45e2ebbb9d83d2",
       "version_major": 2,
       "version_minor": 0
      },
      "text/plain": [
       "Loading dataset shards:   0%|          | 0/24 [00:00<?, ?it/s]"
      ]
     },
     "metadata": {},
     "output_type": "display_data"
    }
   ],
   "source": [
    "trivia_qa = load_dataset('trivia_qa', 'rc')"
   ]
  },
  {
   "cell_type": "code",
   "execution_count": 8,
   "id": "dde4e44e-72e3-461d-9e7a-c556c173b507",
   "metadata": {},
   "outputs": [],
   "source": [
    "#print(trivia_qa['train'][:10])"
   ]
  },
  {
   "cell_type": "code",
   "execution_count": 15,
   "id": "9225336f-3265-4f6b-b286-c6746aa8fefc",
   "metadata": {},
   "outputs": [
    {
     "name": "stdout",
     "output_type": "stream",
     "text": [
      "138384\n"
     ]
    }
   ],
   "source": [
    "#print(len(trivia_qa[\"train\"]))"
   ]
  },
  {
   "cell_type": "code",
   "execution_count": 13,
   "id": "1e71e383-2644-4c3f-ba0d-46ce9a4ff6cf",
   "metadata": {},
   "outputs": [
    {
     "name": "stdout",
     "output_type": "stream",
     "text": [
      "17944\n"
     ]
    }
   ],
   "source": [
    "#print(len(trivia_qa[\"validation\"]))"
   ]
  },
  {
   "cell_type": "code",
   "execution_count": 23,
   "id": "cb6ff645-4eb3-40ea-8110-0740b0af7b8e",
   "metadata": {},
   "outputs": [],
   "source": [
    "from datasets import Dataset, DatasetDict"
   ]
  },
  {
   "cell_type": "code",
   "execution_count": 19,
   "id": "9c134ca7-4077-460c-b62f-851e9c67c32c",
   "metadata": {},
   "outputs": [],
   "source": [
    "id = []\n",
    "title = []\n",
    "context = []\n",
    "question = []\n",
    "answers = []\n",
    "\n",
    "#for i in range(len(trivia_qa[\"train\"])):     \n",
    "for i in range(138):    \n",
    "    i += 1\n",
    "    for k, v in trivia_qa[\"train\"][i].items():\n",
    "        if k == 'entity_pages':\n",
    "            ep = v\n",
    "            for k, v in ep.items():\n",
    "                if k == 'title':\n",
    "                    if len(v) > 0:\n",
    "                        title.append(v[-1])  # Add title\n",
    "                    else:\n",
    "                        title.append('dummy_title')  # Add title\n",
    "                if k == 'wiki_context':\n",
    "                    if len(v) > 0:\n",
    "                        v = v[0]\n",
    "                        context.append(v)  # Add context\n",
    "                    else:\n",
    "                        context.append('dummy_text')  # Add title\n",
    "        if k == 'answer':\n",
    "            a = v\n",
    "            for k, v in v.items():\n",
    "                if k == 'value':\n",
    "#                    print(type(v))\n",
    "                    answers.append(v)  # Add answer\n",
    "        if k == 'question':\n",
    "            q = v\n",
    "            question.append(q)  # Add question\n",
    "        if k == 'question_id':\n",
    "            qid = v\n",
    "            id.append(qid)  # Add id"
   ]
  },
  {
   "cell_type": "code",
   "execution_count": 25,
   "id": "a7b7c501-9963-4733-b8c3-0e952acfc273",
   "metadata": {},
   "outputs": [],
   "source": [
    "# Create the Dataset object\n",
    "training_dataset = Dataset.from_dict({\n",
    "    \"id\": id,\n",
    "    \"title\": title,\n",
    "    \"context\": context,\n",
    "    \"question\": question,\n",
    "    \"answers\": answers\n",
    "})"
   ]
  },
  {
   "cell_type": "code",
   "execution_count": 27,
   "id": "3b6eafdb-a57f-4b6f-9471-ffc175e1dcd1",
   "metadata": {},
   "outputs": [
    {
     "data": {
      "text/plain": [
       "Dataset({\n",
       "    features: ['id', 'title', 'context', 'question', 'answers'],\n",
       "    num_rows: 138\n",
       "})"
      ]
     },
     "execution_count": 27,
     "metadata": {},
     "output_type": "execute_result"
    }
   ],
   "source": [
    "training_dataset"
   ]
  },
  {
   "cell_type": "code",
   "execution_count": 33,
   "id": "ddc73094-d39f-49c6-b428-6e3e2ac1c779",
   "metadata": {},
   "outputs": [],
   "source": [
    "id = []\n",
    "title = []\n",
    "context = []\n",
    "question = []\n",
    "answers = []\n",
    "\n",
    "#for i in range(len(trivia_qa[\"validation\"])):     \n",
    "for i in range(18):    \n",
    "    i += 1\n",
    "    for k, v in trivia_qa[\"validation\"][i].items():\n",
    "        if k == 'entity_pages':\n",
    "            ep = v\n",
    "            for k, v in ep.items():\n",
    "                if k == 'title':\n",
    "                    if len(v) > 0:\n",
    "                        title.append(v[-1])  # Add title\n",
    "                    else:\n",
    "                        title.append('dummy_title')  # Add title\n",
    "                if k == 'wiki_context':\n",
    "                    if len(v) > 0:\n",
    "                        v = v[0]\n",
    "                        context.append(v)  # Add context\n",
    "                    else:\n",
    "                        context.append('dummy_text')  # Add title\n",
    "        if k == 'answer':\n",
    "            a = v\n",
    "            for k, v in v.items():\n",
    "                if k == 'value':\n",
    "#                    print(type(v))\n",
    "                    answers.append(v)  # Add answer\n",
    "        if k == 'question':\n",
    "            q = v\n",
    "            question.append(q)  # Add question\n",
    "        if k == 'question_id':\n",
    "            qid = v\n",
    "            id.append(qid)  # Add id"
   ]
  },
  {
   "cell_type": "code",
   "execution_count": 35,
   "id": "2b9ca37c-a04a-43f4-b03d-c1ca8d67bf83",
   "metadata": {},
   "outputs": [],
   "source": [
    "# Create the Dataset object\n",
    "validation_dataset = Dataset.from_dict({\n",
    "    \"id\": id,\n",
    "    \"title\": title,\n",
    "    \"context\": context,\n",
    "    \"question\": question,\n",
    "    \"answers\": answers\n",
    "})"
   ]
  },
  {
   "cell_type": "code",
   "execution_count": 37,
   "id": "15c4efdd-abcd-406a-afe7-cc530757af56",
   "metadata": {},
   "outputs": [
    {
     "data": {
      "text/plain": [
       "Dataset({\n",
       "    features: ['id', 'title', 'context', 'question', 'answers'],\n",
       "    num_rows: 18\n",
       "})"
      ]
     },
     "execution_count": 37,
     "metadata": {},
     "output_type": "execute_result"
    }
   ],
   "source": [
    "validation_dataset"
   ]
  },
  {
   "cell_type": "code",
   "execution_count": 39,
   "id": "18dec387-77b8-4032-a8c7-3385778bd960",
   "metadata": {},
   "outputs": [],
   "source": [
    "trivia_qa_dataset = DatasetDict({\n",
    "    \"train\": training_dataset,  # Add more splits (e.g., validation, test) as needed\n",
    "    \"validation\": validation_dataset  # Add more splits (e.g., validation, test) as needed\n",
    "})"
   ]
  },
  {
   "cell_type": "code",
   "execution_count": 41,
   "id": "df0af6af-ed35-4579-873a-8cc2e157c8f0",
   "metadata": {},
   "outputs": [
    {
     "name": "stdout",
     "output_type": "stream",
     "text": [
      "DatasetDict({\n",
      "    train: Dataset({\n",
      "        features: ['id', 'title', 'context', 'question', 'answers'],\n",
      "        num_rows: 138\n",
      "    })\n",
      "    validation: Dataset({\n",
      "        features: ['id', 'title', 'context', 'question', 'answers'],\n",
      "        num_rows: 18\n",
      "    })\n",
      "})\n"
     ]
    }
   ],
   "source": [
    "print(trivia_qa_dataset)"
   ]
  },
  {
   "cell_type": "code",
   "execution_count": 47,
   "id": "063283ac-92dd-4ae0-95a3-eb31f2d7714d",
   "metadata": {},
   "outputs": [],
   "source": [
    "#print(trivia_qa_dataset['validation'][:3])  # Print first 3 examples"
   ]
  },
  {
   "cell_type": "code",
   "execution_count": 49,
   "id": "71e377a1-f131-4b36-a2cb-34cd3197d529",
   "metadata": {},
   "outputs": [],
   "source": [
    "import torch\n",
    "\n",
    "def preprocess_function(examples):\n",
    "    print(examples[\"question\"])\n",
    "    inputs = tokenizer(\n",
    "        examples[\"question\"], examples[\"context\"],\n",
    "        max_length=512, truncation=True, padding=\"max_length\"\n",
    "    )\n",
    "    \n",
    "    # Extract start and end positions\n",
    "    start_positions = []\n",
    "    end_positions = []\n",
    "    for i, answer in enumerate(examples[\"answers\"]):\n",
    "#        if len(answer[\"answer_start\"]) > 0:\n",
    "#            start = answer[\"answer_start\"][0]\n",
    "#            end = start + len(answer[\"text\"][0])\n",
    "#        else:\n",
    "#            start = 0\n",
    "#            end = 0\n",
    "        start = 0\n",
    "        end = 0\n",
    "        start_positions.append(start)\n",
    "        end_positions.append(end)\n",
    "    \n",
    "    # Convert to PyTorch tensors\n",
    "    inputs[\"input_ids\"] = torch.tensor(inputs[\"input_ids\"])\n",
    "    inputs[\"attention_mask\"] = torch.tensor(inputs[\"attention_mask\"])\n",
    "    inputs[\"start_positions\"] = torch.tensor(start_positions)\n",
    "    inputs[\"end_positions\"] = torch.tensor(end_positions)\n",
    "    \n",
    "    return inputs"
   ]
  },
  {
   "cell_type": "code",
   "execution_count": 51,
   "id": "81f6849a-8e93-4ef8-b398-f3e8f491000b",
   "metadata": {},
   "outputs": [
    {
     "data": {
      "application/vnd.jupyter.widget-view+json": {
       "model_id": "cc51e4d233cc4c3882a43707041211eb",
       "version_major": 2,
       "version_minor": 0
      },
      "text/plain": [
       "Map:   0%|          | 0/138 [00:00<?, ? examples/s]"
      ]
     },
     "metadata": {},
     "output_type": "display_data"
    },
    {
     "name": "stdout",
     "output_type": "stream",
     "text": [
      "['Where in England was Dame Judi Dench born?', 'In which decade did Billboard magazine first publish and American hit chart?', 'From which country did Angola achieve independence in 1975?', 'Which city does David Soul come from?', 'Who won Super Bowl XX?', 'Which was the first European country to abolish capital punishment?', 'In which country did he widespread use of ISDN begin in 1988?', \"What is Bruce Willis' real first name?\", 'Which William wrote the novel Lord Of The Flies?', 'Which innovation for the car was developed by Prince Henry of Prussia in 1911?', 'How is musician William Lee Conley better known?', 'How is Joan Molinsky better known?', 'In which branch of the arts is Patricia Neary famous?', \"Which country is Europe's largest silk producer?\", 'The VS-300 was a type of what?', 'At which university did Joseph Goebbels become a doctor of philosophy?', \"Which prince is Queen Elizabeth II's youngest son?\", \"When did the founder of Jehovah's Witnesses say the world would end?\", 'Who found the remains of the Titanic?', 'Who was the only Spice Girl not to have a middle name?', 'What are the international registration letters of a vehicle from Algeria?', 'How did Jock die in Dallas?', 'What star sign is Michael Caine?', 'Who wrote the novel Evening Class?', 'Which country does the airline Air Pacific come from?', 'In which branch of the arts does Allegra Kent work?', \"Who had a 70s No 1 hit with Billy, Don't Be A Hero?\", 'Banting and Best pioneered the use of what?', 'Who directed the movie La Dolce Vita?', 'Which country does the airline LACSA come from?', 'Who directed 2001: A Space Odyssey?', 'Which is the largest of the Japanese Volcano Islands?', 'Ezzard Charles was a world champion in which sport?', 'Who was the first woman to make a solo flight across the Atlantic?', 'Which port lies between Puget Sound and Lake Washington?', 'In which city were Rotary Clubs set up in 1905?', 'Who became US Vice President when Spiro Agnew resigned?', 'In which decade of the 20th century was Billy Crystal born?', 'Which George invented the Kodak roll-film camera?', 'Which series had the characters Felix Unger and Oscar Madison?', 'Who along with Philips developed the CD in the late 70s?', 'Where is the multinational Nestle based?', \"Do You Know Where You're Going To? was the theme from which film?\", '19969 was the Chinese year of which creature?', 'In the 90s how many points have been awarded for finishing second in a Grand Prix?', 'Stapleton international airport is in which US state?', \"What was Kevin Kline's first movie?\", 'Which actor had a Doberman Pinscher called Kirk?', 'What day of the week was the Wall Street Crash?', 'The US signed a treaty with which country to allow the construction of the Panama Canal?', \"What was Prince's last No 1 of the 80s?\", 'Man In The Mirror first featured on which Michel Jackson album?', 'Where was the first battle with US involvement in the Korean War?', 'On which Caribbean island did Princess Diana spend he first Christmas after her divorce was announced?', 'In which decade was Arnold Schwarzenegger born?', 'Which musical featured the song Thank Heaven for Little Girls?', 'The Queen Elizabeth liner was destroyed by fire in the 70s in which harbour?', 'What breed of dog did Columbo own?', 'What was the first movie western called?', 'Which Oscar-winning actress was born on exactly the same day as actress Lindsay Wagner?', 'Which Amendment to the Constitution brought in prohibition in 1920?', 'Which oil scandal hit the US in 1924?', 'Phil Collins appeared in which Spielberg film with Robin Williams?', '1998 was the Chinese year of which creature?', 'Which country does musician Alfred Brendel come from?', 'Theodore Francis international airport is in which US state?', 'In which soap did Demi Moore find fame?', 'To the nearest million, what is the population of London, England?', 'What did Clarice Cliff create?', 'Which James Bond film features a song by Louis Armstrong?', 'In what year were US ground troops first dispatched to Vietnam?', 'In 1999 Anna Kournikova signed a lucrative contract to model what?', 'Which member of the Monkees came from Washington DC?', 'Which ship was sunk by a German submarine in 1915 with a loss of 1400 lives including 128 Americans?', 'In what decade were video recorders first developed?', 'Who had the noels Spy Hook and Spy Line published in the 80s?', 'the first credit cards were for use in what type of establishments?', 'In which country was Ursula Andrews born?', \"What was CBS TV news broadcaster Walter Cronkite's stock closing phrase?\", 'Who had a 70s No 1 hit with Let Your Love Flow?', \"Which state renewed Mike Tyson's boxing license in 1998?\", 'Neil Armstrong was a pilot in which war?', 'Which English-born US citizen hosted Masterpiece theater?', 'Nickelodeon was founded in 1979 by which company?', 'Which element along with polonium did the Curies discover?', 'In The Banana Splits what sort of animal was Snorky?', \"Who had an 80s No 1 hit with Can't Fight This Feeling?\", 'Which parallel was the truce line in the Korean War?', 'On a computer keyboard which letter is between A and D?', 'Which musical featured the song Flash Bang, Wallop?', \"What was Hitchcock's first sound movie?\", 'Which newspaper did Jackie Kennedy work for just before her marriage?', 'What are the international registration letters of a vehicle from Turkey?', 'Who wrote The Turn Of The Screw in the 19th century and The Ambassadors in the 20th?', 'Which American nuclear submarine was the first to sail across the North Pole under the ice cap?', \"What was John Glenn/'s first spacecraft called?\", 'Which branch of medicine is concerned with disorders of the blood?', 'Where was The Iron Triangle?', 'What is the correct name of laughing gas?', 'What is the distance between bases on a little league baseball field?', 'How many home runs did baseball great Ty Cobb hit in the three world series in which he played?', 'In cross-country bike racing, what do the initials BMX represent?', 'After retiring as a player, with what team did baseball great Babe Ruth spend one year as a coach?', 'What is the maximum weight permitted for calves in rodeo calf-roping competition?', 'What baseball player hit the only home run of his 212-year major league career off his own brother?', 'Brooks Robinson and Carl Yastrzemski hold the major league baseball record for playing the greatest number of seasons with the same team. How many years did they play-- and with what teams?', 'Under the rules outlined in the charter of the International Olympic Committee, how much pure gold must there be in each gold medal awarded to first-place winners?', 'Who was the famous great-great-grandfather of San Francisco 49er quarterback Steve Young?', 'How many of the four Grand Slam trophies in tennis are gold; how many are silver?', '\"What breakfast food gets its name from the German word for \"\"stirrup\"\"?\"', 'What popular drink did a Dutch medical professor produce in his laboratory while trying to come up with a blood cleanser that could be sold in drugstores?', 'On what vegetable did an ancient Egyptian place his right hand when taking an oath?', 'What American city produces most of the egg rolls sold in grocery stores in the United States?', 'Italy leads the world in pasta consumption with 61.7 pounds eaten per person per year. What country is second?', 'When Birdseye introduced the first frozen food in 1930, what did the company call it/', 'Which 100-mile long waterway links the Mediterranean and the Red Sea?', 'In which country is the Aswan Dam?', 'Where did Idi Amin rule from 1971-1979?', 'Which country has the rand as its currency?', \"What is the former name of the People's Republic of Venin?\", 'In which country are Tangier and Casablanca?', 'Who was the Egyptian president who was assassinated in 1981?', 'Which country was called Upper Volta until 1984?', 'Who was the Egyptian king whose tomb an treasures were discovered in the Valley of the Kings in 1922?', 'Name the East African country which lies on the equator.', 'What are the two main arms of the River Nile called?', 'In which country did King Hassan II ascend the throne in 1961?', 'Which British general was killed at Khartoum in 1885?', 'On the border of which two countries is Victoria Falls?', 'What is the name of the volcanic valley that runs from the Sinai peninsula to central Mozambique?', 'Which actor won an Academy Award for his performance in The African Queen?', 'Who wrote the novel Cry, the Beloved Country about South Africa?', 'What is the capital of Kenya?', 'From which European country did Angola achieve independence in 1975?', 'Which country mainly makes up the Horn of Africa?', 'What is the capital of Sierra Leone?', 'Which country is the island of Zanzibar part of?', \"What is Africa's largest country?\"]\n"
     ]
    },
    {
     "data": {
      "application/vnd.jupyter.widget-view+json": {
       "model_id": "e1c98930e59b4375b50791974688a98b",
       "version_major": 2,
       "version_minor": 0
      },
      "text/plain": [
       "Map:   0%|          | 0/18 [00:00<?, ? examples/s]"
      ]
     },
     "metadata": {},
     "output_type": "display_data"
    },
    {
     "name": "stdout",
     "output_type": "stream",
     "text": [
      "['Which Lloyd Webber musical premiered in the US on 10th December 1993?', 'Who was the next British Prime Minister after Arthur Balfour?', 'Who had a 70s No 1 hit with Kiss You All Over?', 'What claimed the life of singer Kathleen Ferrier?', 'Rita Coolidge sang the title song for which Bond film?', 'What was the last US state to reintroduce alcohol after prohibition?', 'Which actress was voted Miss Greenwich Village in 1942?', 'What is the Japanese share index called?', \"What was the name of Michael Jackson's autobiography written in 1988?\", 'In which decade did stereo records first go on sale?', \"In what year's Olympics were electric timing devices and a public-address system used for the first time?\", 'Which volcano in Tanzania is the highest mountain in Africa?', 'The flag of Libya is a plain rectangle of which color?', 'Of which African country is Niamey the capital?', 'Who was the director of the CIA from 1976-81?', 'Which musical featured the song The Street Where You Live?', '\"Who was the target of the failed \"\"Bomb Plot\"\" of 1944?\"', 'Who had an 80s No 1 hit with Hold On To The Nights?']\n"
     ]
    }
   ],
   "source": [
    "tokenized_trivia_qa_dataset = trivia_qa_dataset.map(preprocess_function, batched=True, remove_columns=trivia_qa_dataset[\"train\"].column_names)"
   ]
  },
  {
   "cell_type": "code",
   "execution_count": 53,
   "id": "de95d4f9-6e5a-4d6b-811e-936ca9ac73d6",
   "metadata": {},
   "outputs": [
    {
     "data": {
      "text/plain": [
       "DatasetDict({\n",
       "    train: Dataset({\n",
       "        features: ['input_ids', 'attention_mask', 'start_positions', 'end_positions'],\n",
       "        num_rows: 138\n",
       "    })\n",
       "    validation: Dataset({\n",
       "        features: ['input_ids', 'attention_mask', 'start_positions', 'end_positions'],\n",
       "        num_rows: 18\n",
       "    })\n",
       "})"
      ]
     },
     "execution_count": 53,
     "metadata": {},
     "output_type": "execute_result"
    }
   ],
   "source": [
    "tokenized_trivia_qa_dataset"
   ]
  },
  {
   "cell_type": "code",
   "execution_count": 55,
   "id": "056fbb2d-24e2-4ff4-bac7-1dfe538f511d",
   "metadata": {},
   "outputs": [],
   "source": [
    "tokenized_trivia_qa_dataset.set_format(type=\"torch\")"
   ]
  },
  {
   "cell_type": "code",
   "execution_count": 57,
   "id": "0d95f068-1c83-413a-8328-7dddd536e5ac",
   "metadata": {},
   "outputs": [],
   "source": [
    "from torch.utils.data import DataLoader\n",
    "\n",
    "train_dataloader = DataLoader(tokenized_trivia_qa_dataset[\"train\"], batch_size=16, shuffle=True)\n",
    "val_dataloader = DataLoader(tokenized_trivia_qa_dataset[\"validation\"], batch_size=16)"
   ]
  },
  {
   "cell_type": "code",
   "execution_count": 59,
   "id": "6b865f43-8384-41ef-80c4-ac8f4ae77c8c",
   "metadata": {},
   "outputs": [
    {
     "name": "stderr",
     "output_type": "stream",
     "text": [
      "C:\\Users\\Usuario\\anaconda3\\Lib\\site-packages\\transformers\\optimization.py:591: FutureWarning: This implementation of AdamW is deprecated and will be removed in a future version. Use the PyTorch implementation torch.optim.AdamW instead, or set `no_deprecation_warning=True` to disable this warning\n",
      "  warnings.warn(\n"
     ]
    }
   ],
   "source": [
    "from transformers import AdamW\n",
    "\n",
    "optimizer = AdamW(model.parameters(), lr=5e-5)"
   ]
  },
  {
   "cell_type": "code",
   "execution_count": null,
   "id": "695bb8d4-5ebe-4081-8cec-7b637f75d0cd",
   "metadata": {},
   "outputs": [
    {
     "name": "stdout",
     "output_type": "stream",
     "text": [
      "Epoch 0, Loss: 6.387694358825684\n"
     ]
    }
   ],
   "source": [
    "device = torch.device(\"cuda\" if torch.cuda.is_available() else \"cpu\")\n",
    "model.to(device)\n",
    "\n",
    "for epoch in range(3):  # Number of epochs\n",
    "    model.train()\n",
    "    for batch in train_dataloader:\n",
    "        input_ids = batch[\"input_ids\"].to(device)\n",
    "        attention_mask = batch[\"attention_mask\"].to(device)\n",
    "        start_positions = batch[\"start_positions\"].to(device)\n",
    "        end_positions = batch[\"end_positions\"].to(device)\n",
    "\n",
    "        outputs = model(\n",
    "            input_ids,\n",
    "            attention_mask=attention_mask,\n",
    "            start_positions=start_positions,\n",
    "            end_positions=end_positions,\n",
    "        )\n",
    "        loss = outputs.loss\n",
    "        loss.backward()\n",
    "        optimizer.step()\n",
    "        optimizer.zero_grad()\n",
    "        print(f\"Epoch {epoch}, Loss: {loss.item()}\")"
   ]
  },
  {
   "cell_type": "code",
   "execution_count": null,
   "id": "33faae74-555d-48d2-94ac-aa8de5f84f0d",
   "metadata": {},
   "outputs": [],
   "source": []
  }
 ],
 "metadata": {
  "kernelspec": {
   "display_name": "Python 3 (ipykernel)",
   "language": "python",
   "name": "python3"
  },
  "language_info": {
   "codemirror_mode": {
    "name": "ipython",
    "version": 3
   },
   "file_extension": ".py",
   "mimetype": "text/x-python",
   "name": "python",
   "nbconvert_exporter": "python",
   "pygments_lexer": "ipython3",
   "version": "3.12.3"
  }
 },
 "nbformat": 4,
 "nbformat_minor": 5
}
